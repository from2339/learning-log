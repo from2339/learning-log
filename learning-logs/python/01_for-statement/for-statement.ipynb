{
  "nbformat": 4,
  "nbformat_minor": 0,
  "metadata": {
    "colab": {
      "provenance": []
    },
    "kernelspec": {
      "name": "python3",
      "display_name": "Python 3"
    },
    "language_info": {
      "name": "python"
    }
  },
  "cells": [
    {
      "cell_type": "code",
      "execution_count": null,
      "metadata": {
        "colab": {
          "base_uri": "https://localhost:8080/"
        },
        "id": "hpjEX1eYmsyH",
        "outputId": "9c3774b3-1c62-4dae-d5a8-d8199f0ef70b"
      },
      "outputs": [
        {
          "output_type": "stream",
          "name": "stdout",
          "text": [
            "1\n",
            "2\n",
            "3\n",
            "4\n",
            "5\n",
            "6\n",
            "7\n",
            "8\n",
            "9\n",
            "10\n"
          ]
        }
      ],
      "source": [
        "for i in range (1,11):\n",
        "    print(i)"
      ]
    },
    {
      "cell_type": "code",
      "source": [
        "fruits = [\"apple\",\"banana\",\"cherry\"]\n",
        "\n",
        "for i in fruits:\n",
        "   print(i)"
      ],
      "metadata": {
        "colab": {
          "base_uri": "https://localhost:8080/"
        },
        "id": "sM7g2scYnE3o",
        "outputId": "06217127-0d97-461c-e21d-59461e7ecad4"
      },
      "execution_count": null,
      "outputs": [
        {
          "output_type": "stream",
          "name": "stdout",
          "text": [
            "apple\n",
            "banana\n",
            "cherry\n"
          ]
        }
      ]
    },
    {
      "cell_type": "code",
      "source": [
        "x = 0\n",
        "\n",
        "for i in range(1,11):\n",
        "    x += i\n",
        "\n",
        "print(x)\n"
      ],
      "metadata": {
        "colab": {
          "base_uri": "https://localhost:8080/"
        },
        "id": "LqtxeUbznbXB",
        "outputId": "29909388-7173-4535-9a38-e07542ad778d"
      },
      "execution_count": null,
      "outputs": [
        {
          "output_type": "stream",
          "name": "stdout",
          "text": [
            "55\n"
          ]
        }
      ]
    },
    {
      "cell_type": "code",
      "source": [
        "x = 0\n",
        "\n",
        "for i in range(1,11):\n",
        "    x += i\n",
        "print(x)"
      ],
      "metadata": {
        "colab": {
          "base_uri": "https://localhost:8080/"
        },
        "id": "wR_6G3vTo39V",
        "outputId": "368a7883-b5ea-40ca-d4bb-852445fdd58a"
      },
      "execution_count": null,
      "outputs": [
        {
          "output_type": "stream",
          "name": "stdout",
          "text": [
            "55\n"
          ]
        }
      ]
    },
    {
      "cell_type": "code",
      "source": [
        "for i in range(2,21,2):\n",
        "    print(i)"
      ],
      "metadata": {
        "colab": {
          "base_uri": "https://localhost:8080/"
        },
        "id": "yUSXYe9opMEK",
        "outputId": "891f5a07-968a-4f15-beb8-20a788269579"
      },
      "execution_count": null,
      "outputs": [
        {
          "output_type": "stream",
          "name": "stdout",
          "text": [
            "2\n",
            "4\n",
            "6\n",
            "8\n",
            "10\n",
            "12\n",
            "14\n",
            "16\n",
            "18\n",
            "20\n"
          ]
        }
      ]
    },
    {
      "cell_type": "code",
      "source": [
        "x = 0\n",
        "\n",
        "for i in range(1,10):\n",
        "    print(f\"3 × {i} ={3 * i}\")\n",
        "\n"
      ],
      "metadata": {
        "colab": {
          "base_uri": "https://localhost:8080/"
        },
        "id": "SB8HqFRGpqRQ",
        "outputId": "1825c555-9542-4e85-9c66-d55dddd478d9"
      },
      "execution_count": null,
      "outputs": [
        {
          "output_type": "stream",
          "name": "stdout",
          "text": [
            "3 × 1 =3\n",
            "3 × 2 =6\n",
            "3 × 3 =9\n",
            "3 × 4 =12\n",
            "3 × 5 =15\n",
            "3 × 6 =18\n",
            "3 × 7 =21\n",
            "3 × 8 =24\n",
            "3 × 9 =27\n"
          ]
        }
      ]
    },
    {
      "cell_type": "code",
      "source": [
        "x = 3\n",
        "\n",
        "for i in range(1,10):\n",
        "    print(f\"3 × {i} = {x * i}\")"
      ],
      "metadata": {
        "colab": {
          "base_uri": "https://localhost:8080/"
        },
        "id": "wbTPAz2ptS3P",
        "outputId": "bc569725-95e0-4961-88aa-a5fa77e3a18d"
      },
      "execution_count": null,
      "outputs": [
        {
          "output_type": "stream",
          "name": "stdout",
          "text": [
            "3 × 1 = 3\n",
            "3 × 2 = 6\n",
            "3 × 3 = 9\n",
            "3 × 4 = 12\n",
            "3 × 5 = 15\n",
            "3 × 6 = 18\n",
            "3 × 7 = 21\n",
            "3 × 8 = 24\n",
            "3 × 9 = 27\n"
          ]
        }
      ]
    },
    {
      "cell_type": "code",
      "source": [
        "for dan in range(1, 10):  # 1 から 9 の段\n",
        "    for i in range(1, 10):  # 1 から 9 を掛ける\n",
        "        print(f\"{dan} × {i} = {dan * i}\")\n",
        "    print()  # 段ごとに改行\n"
      ],
      "metadata": {
        "colab": {
          "base_uri": "https://localhost:8080/"
        },
        "id": "DVH1cVhEvKuF",
        "outputId": "520801c1-c655-4b30-ef5e-0e090c846ee4"
      },
      "execution_count": null,
      "outputs": [
        {
          "output_type": "stream",
          "name": "stdout",
          "text": [
            "1 × 1 = 1\n",
            "1 × 2 = 2\n",
            "1 × 3 = 3\n",
            "1 × 4 = 4\n",
            "1 × 5 = 5\n",
            "1 × 6 = 6\n",
            "1 × 7 = 7\n",
            "1 × 8 = 8\n",
            "1 × 9 = 9\n",
            "\n",
            "2 × 1 = 2\n",
            "2 × 2 = 4\n",
            "2 × 3 = 6\n",
            "2 × 4 = 8\n",
            "2 × 5 = 10\n",
            "2 × 6 = 12\n",
            "2 × 7 = 14\n",
            "2 × 8 = 16\n",
            "2 × 9 = 18\n",
            "\n",
            "3 × 1 = 3\n",
            "3 × 2 = 6\n",
            "3 × 3 = 9\n",
            "3 × 4 = 12\n",
            "3 × 5 = 15\n",
            "3 × 6 = 18\n",
            "3 × 7 = 21\n",
            "3 × 8 = 24\n",
            "3 × 9 = 27\n",
            "\n",
            "4 × 1 = 4\n",
            "4 × 2 = 8\n",
            "4 × 3 = 12\n",
            "4 × 4 = 16\n",
            "4 × 5 = 20\n",
            "4 × 6 = 24\n",
            "4 × 7 = 28\n",
            "4 × 8 = 32\n",
            "4 × 9 = 36\n",
            "\n",
            "5 × 1 = 5\n",
            "5 × 2 = 10\n",
            "5 × 3 = 15\n",
            "5 × 4 = 20\n",
            "5 × 5 = 25\n",
            "5 × 6 = 30\n",
            "5 × 7 = 35\n",
            "5 × 8 = 40\n",
            "5 × 9 = 45\n",
            "\n",
            "6 × 1 = 6\n",
            "6 × 2 = 12\n",
            "6 × 3 = 18\n",
            "6 × 4 = 24\n",
            "6 × 5 = 30\n",
            "6 × 6 = 36\n",
            "6 × 7 = 42\n",
            "6 × 8 = 48\n",
            "6 × 9 = 54\n",
            "\n",
            "7 × 1 = 7\n",
            "7 × 2 = 14\n",
            "7 × 3 = 21\n",
            "7 × 4 = 28\n",
            "7 × 5 = 35\n",
            "7 × 6 = 42\n",
            "7 × 7 = 49\n",
            "7 × 8 = 56\n",
            "7 × 9 = 63\n",
            "\n",
            "8 × 1 = 8\n",
            "8 × 2 = 16\n",
            "8 × 3 = 24\n",
            "8 × 4 = 32\n",
            "8 × 5 = 40\n",
            "8 × 6 = 48\n",
            "8 × 7 = 56\n",
            "8 × 8 = 64\n",
            "8 × 9 = 72\n",
            "\n",
            "9 × 1 = 9\n",
            "9 × 2 = 18\n",
            "9 × 3 = 27\n",
            "9 × 4 = 36\n",
            "9 × 5 = 45\n",
            "9 × 6 = 54\n",
            "9 × 7 = 63\n",
            "9 × 8 = 72\n",
            "9 × 9 = 81\n",
            "\n"
          ]
        }
      ]
    },
    {
      "cell_type": "code",
      "source": [
        "music_genres = {\n",
        "    \"Rock\": [\"ジミ・ヘンドリックス\",\"ジャニス・ジョプリン\"],\n",
        "    \"Raggae\": [\"ボブ・マーリー\",\"ピーター・トッシュ\"],\n",
        "    \"Soul\": [\"スティービー・ワンダー\",\"ダニー・ハサウェイ\"]\n",
        "    }\n",
        "\n",
        "for genre, artists in music_genres.items():\n",
        "    print(f\"♫ {genre} ♫\")\n",
        "    for artist in artists:\n",
        "          print(f\" -{artist}\")\n",
        "    print()\n"
      ],
      "metadata": {
        "colab": {
          "base_uri": "https://localhost:8080/"
        },
        "id": "wVQvhWVVv93F",
        "outputId": "7807433b-3128-46ef-ca04-46116e9da56c"
      },
      "execution_count": null,
      "outputs": [
        {
          "output_type": "stream",
          "name": "stdout",
          "text": [
            "♫ Rock ♫\n",
            " -ジミ・ヘンドリックス\n",
            " -ジャニス・ジョプリン\n",
            "\n",
            "♫ Raggae ♫\n",
            " -ボブ・マーリー\n",
            " -ピーター・トッシュ\n",
            "\n",
            "♫ Soul ♫\n",
            " -スティービー・ワンダー\n",
            " -ダニー・ハサウェイ\n",
            "\n"
          ]
        }
      ]
    }
  ]
}